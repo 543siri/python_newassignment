{
 "cells": [
  {
   "cell_type": "code",
   "execution_count": 1,
   "id": "c83d05d1",
   "metadata": {},
   "outputs": [
    {
     "name": "stdout",
     "output_type": "stream",
     "text": [
      "hello\n"
     ]
    }
   ],
   "source": [
    "s = 'hello'\n",
    "#Print out 'e' using indexing\n",
    "print(s[1])"
   ]
  },
  {
   "cell_type": "code",
   "execution_count": 2,
   "id": "b2e83d3c",
   "metadata": {},
   "outputs": [],
   "source": [
    "s ='hello'\n",
    "# Reverse the string using slicing\n",
    "print(s[::-1])"
   ]
  },
  {
   "cell_type": "code",
   "execution_count": null,
   "id": "c8968f74",
   "metadata": {},
   "outputs": [],
   "source": [
    "#Reassign 'hello' in this nested list to say 'goodbye' instead:\n",
    "list3 = [1,2,[3,4,'hello']]\n",
    "list3[2][2]='goodbye'\n",
    "print(list3)\n"
   ]
  },
  {
   "cell_type": "code",
   "execution_count": null,
   "id": "b0048ae5",
   "metadata": {},
   "outputs": [],
   "source": [
    "#Sort the list below:\n",
    "list4 = [5,3,4,6,1]\n",
    "print(sorted(list4))"
   ]
  },
  {
   "attachments": {},
   "cell_type": "markdown",
   "id": "f0a3eeb0",
   "metadata": {},
   "source": [
    "Using keys and indexing, grab the 'hello' from the following dictionaries:"
   ]
  },
  {
   "cell_type": "code",
   "execution_count": null,
   "id": "b10d5f8b",
   "metadata": {},
   "outputs": [],
   "source": [
    "d = {'simple_key':'hello'}\n",
    "# Grab 'hello'\n",
    "print(d['simple_key'])"
   ]
  },
  {
   "cell_type": "code",
   "execution_count": null,
   "id": "2cbbfa8f",
   "metadata": {},
   "outputs": [],
   "source": [
    "d = {'k1':{'k2':'hello'}}\n",
    "# Grab 'hello'\n",
    "print(d['k1']['k2'])"
   ]
  },
  {
   "cell_type": "code",
   "execution_count": null,
   "id": "a84ca298",
   "metadata": {},
   "outputs": [],
   "source": [
    "# Getting a little tricker\n",
    "d = {'k1':[{'nest_key':['this is deep',['hello']]}]}\n",
    "\n",
    "#Grab hello\n",
    "e=d['k1']\n",
    "print(e[0]['nest_key'][1])\n"
   ]
  },
  {
   "cell_type": "code",
   "execution_count": null,
   "id": "9c30fdf6",
   "metadata": {},
   "outputs": [],
   "source": [
    "#Use a set to find the unique values of the list below:\n",
    "list5 = [1,2,2,33,4,4,11,22,3,3,2]\n",
    "list6=list(set(list5))\n",
    "print(list6)"
   ]
  },
  {
   "cell_type": "code",
   "execution_count": null,
   "id": "1790d58d",
   "metadata": {},
   "outputs": [],
   "source": [
    "#Use for, .split(), and if to create a Statement that will print out words that start with 's':\n",
    "st = 'Print only the words that start with s in this sentence'\n",
    "\n",
    "new=st.split()\n",
    "old=[]\n",
    "for i in new:\n",
    "    # if i[0]=='s':\n",
    "    #     old.append(i)\n",
    "    #     print(old)\n",
    "    # else:\n",
    "    #     print(\"word not starting with s\")\n",
    "    if i.startswith('s'):\n",
    "        print(i)\n"
   ]
  },
  {
   "cell_type": "code",
   "execution_count": null,
   "id": "a0685548",
   "metadata": {},
   "outputs": [],
   "source": [
    "#Use range() to print all the even numbers from 0 to 10.\n",
    "for i in range(0,11):\n",
    "    print(i)"
   ]
  },
  {
   "cell_type": "code",
   "execution_count": null,
   "id": "3e4d5f78",
   "metadata": {},
   "outputs": [],
   "source": [
    "#Use List Comprehension to create a list of the first letters of every word in the string below:\n",
    "st = 'Create a list of the first letters of every word in this string'\n",
    "x=[i[0] for i in st.split()]\n",
    "print(x)"
   ]
  },
  {
   "cell_type": "code",
   "execution_count": null,
   "id": "ee1ddecb",
   "metadata": {},
   "outputs": [],
   "source": [
    "#Write a function that checks whether a number is in a given range (inclusive of high and low)(return boolean)\n",
    "def ran_check(num,low,high):\n",
    "    if num < high:\n",
    "        print(\"given num is low\")\n",
    "    elif num > low:\n",
    "        print(\"given number is high\")\n",
    "    else:\n",
    "        print(\"hello\")\n",
    "\n",
    "obj=ran_check(27,3,20)\n",
    "obj=ran_check(8,3,20)"
   ]
  },
  {
   "cell_type": "code",
   "execution_count": null,
   "id": "8909c627",
   "metadata": {},
   "outputs": [],
   "source": [
    "#Write a Python function that takes a list and returns a new list with unique elements of the first list.\n",
    "\n",
    "#Sample List : [1,1,1,1,2,2,3,3,3,3,4,5]\n",
    "#Unique List : [1, 2, 3, 4, 5]\n",
    "Sample_List =[1,1,1,1,2,2,3,3,3,3,4,5]\n",
    "unique_list=set(Sample_List)\n",
    "print(list(unique_list))\n",
    "###################################################\n",
    "j=[]\n",
    "for i in Sample_List:\n",
    "    j.append(i)\n",
    "print(list(set(j)))"
   ]
  }
 ],
 "metadata": {
  "kernelspec": {
   "display_name": "Python 3 (ipykernel)",
   "language": "python",
   "name": "python3"
  },
  "language_info": {
   "codemirror_mode": {
    "name": "ipython",
    "version": 3
   },
   "file_extension": ".py",
   "mimetype": "text/x-python",
   "name": "python",
   "nbconvert_exporter": "python",
   "pygments_lexer": "ipython3",
   "version": "3.10.9"
  }
 },
 "nbformat": 4,
 "nbformat_minor": 5
}
