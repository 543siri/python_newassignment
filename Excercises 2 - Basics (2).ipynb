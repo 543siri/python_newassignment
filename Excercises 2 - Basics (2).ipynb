{
 "cells": [
  {
   "attachments": {},
   "cell_type": "markdown",
   "metadata": {},
   "source": [
    "Write a function translate() that will translate a text into \"rövarspråket\" (Swedish for \"robber's language\"). That is, double every consonant and place an occurrence of \"o\" in between. For example, translate(\"this is fun\") should return the string \"tothohisos isos fofunon\"."
   ]
  },
  {
   "cell_type": "code",
   "execution_count": 2,
   "metadata": {},
   "outputs": [],
   "source": [
    "# Your Solution here "
   ]
  },
  {
   "attachments": {},
   "cell_type": "markdown",
   "metadata": {},
   "source": [
    "Define a function sum() and a function multiply() that sums and multiplies (respectively) all the numbers in a list of numbers. For example, sum([1, 2, 3, 4]) should return 10, and multiply([1, 2, 3, 4]) should return 24"
   ]
  },
  {
   "cell_type": "code",
   "execution_count": null,
   "metadata": {},
   "outputs": [],
   "source": [
    "def sum(num):\n",
    "    result=0\n",
    "    for item in num:\n",
    "        result =item + result\n",
    "    return result\n",
    "def mul(num):\n",
    "    total=1\n",
    "    for item in num:\n",
    "        total = item * total\n",
    "    return total\n",
    "\n",
    "num=[1,2,3,4]\n",
    "print(sum(num))\n",
    "print(mul(num))"
   ]
  },
  {
   "attachments": {},
   "cell_type": "markdown",
   "metadata": {},
   "source": [
    "**Define a function reverse() that computes the reversal of a string. For example, reverse(\"I am testing\") should return the string \"gnitset ma I**"
   ]
  },
  {
   "cell_type": "code",
   "execution_count": null,
   "metadata": {},
   "outputs": [],
   "source": [
    "def rev(st):\n",
    "    return st[::-1]\n",
    "print(rev(\"I Am Testing\"))\n"
   ]
  },
  {
   "attachments": {},
   "cell_type": "markdown",
   "metadata": {},
   "source": [
    "**Define a function is_palindrome() that recognizes palindromes (i.e. words that look the same written backwards). For example, is_palindrome(\"radar\") should return True.**"
   ]
  },
  {
   "cell_type": "code",
   "execution_count": null,
   "metadata": {},
   "outputs": [],
   "source": [
    "def is_palindrome(st):\n",
    "    if st==st[::-1]:\n",
    "        return True\n",
    "    else:\n",
    "        return False\n",
    "\n",
    "print(is_palindrome(\"radar\"))\n",
    "print(is_palindrome(\"radaar\"))"
   ]
  },
  {
   "attachments": {},
   "cell_type": "markdown",
   "metadata": {},
   "source": [
    "**Write a function is_member() that takes a value (i.e. a number, string, etc) x and a list of values a, and returns True if x is a member of a, False otherwise.**"
   ]
  },
  {
   "cell_type": "code",
   "execution_count": null,
   "metadata": {},
   "outputs": [],
   "source": [
    "def is_member(x,y):\n",
    "    for i in x:\n",
    "        for j in y:\n",
    "            if i==j:\n",
    "                return True\n",
    "    return False\n",
    "  \n",
    "x=[2,3,4]\n",
    "y=[4]\n",
    "print(is_member(x,y))"
   ]
  },
  {
   "attachments": {},
   "cell_type": "markdown",
   "metadata": {},
   "source": [
    "**Define a function overlapping() that takes two lists and returns True if they have at least one member in common, False otherwise. You may use your is_member() function, or the in operator, but for the sake of the exercise, you should (also) write it using two nested for-loops.**"
   ]
  },
  {
   "cell_type": "code",
   "execution_count": null,
   "metadata": {},
   "outputs": [],
   "source": [
    "def overalapping(x, a):\n",
    "\tresult = False\n",
    "\n",
    "\tfor item in x:\n",
    "\t\tfor item_new in a:\n",
    "\t\t\tif item == item_new:\n",
    "\t\t\t\tresult = True\n",
    "\t\t\t\treturn result\t\t\t\t\n",
    "\treturn result\n",
    "\t\n",
    "x = [1, 2, 3, 4, 5]\n",
    "a = [5, 6, 7, 8, 9]\n",
    "print(overalapping(x, a))\n",
    "\n",
    "x = [1, 3, 4, 5]\n",
    "a = [6, 7, 9]\n",
    "print(overalapping(x, a))"
   ]
  },
  {
   "attachments": {},
   "cell_type": "markdown",
   "metadata": {},
   "source": [
    "#Define a function\n",
    "#histogram() that takes a list of integers and prints a histogram to the screen. For example, histogram([4, 9, 7]) #should print the following:*(click on next cell to see)\n"
   ]
  },
  {
   "attachments": {},
   "cell_type": "markdown",
   "metadata": {},
   "source": [
    "\n",
    "****\n",
    "*********\n",
    "*******"
   ]
  },
  {
   "cell_type": "code",
   "execution_count": null,
   "metadata": {},
   "outputs": [],
   "source": [
    "def histogram(num):\n",
    "    for item in num:\n",
    "        item = item * '*'\n",
    "        print(item)\n",
    "histogram(num=[4,7,9])"
   ]
  },
  {
   "attachments": {},
   "cell_type": "markdown",
   "metadata": {},
   "source": [
    "**Write a function char_freq() that takes a string and builds a frequency listing of the characters contained in it. Represent the frequency listing as a Python dictionary. Try it with something like char_freq(\"abbabcbdbabdbdbabababcbcbab\").**\n",
    "\n"
   ]
  },
  {
   "cell_type": "code",
   "execution_count": null,
   "metadata": {},
   "outputs": [],
   "source": [
    "def char_freq(st):\n",
    "    dic={}\n",
    "    for i in set(st):\n",
    "        val=st.count(i)\n",
    "        dic[i]=val\n",
    "    print(dic)\n",
    "\n",
    "st=\"abbabcbdbabdbdbabababcbcbab\"\n",
    "char_freq(st)"
   ]
  },
  {
   "attachments": {},
   "cell_type": "markdown",
   "metadata": {},
   "source": [
    "<b>Write a Python program to square and cube every number in a given list of integers using Lambda.</b>\n"
   ]
  },
  {
   "cell_type": "code",
   "execution_count": null,
   "metadata": {},
   "outputs": [],
   "source": [
    "li = [1,2,4]\n",
    "x =list(map(lambda x: x**2 ,li))\n",
    "y =list(map(lambda x: x**3 ,li))\n",
    "\n",
    "print(\"square of given integers {}\".format(x))\n",
    "print(\"cube of given integers {}\".format(y))"
   ]
  },
  {
   "attachments": {},
   "cell_type": "markdown",
   "metadata": {},
   "source": [
    "**Write a Python program to find if a given string starts with a given character using Lambda.**"
   ]
  },
  {
   "cell_type": "code",
   "execution_count": null,
   "metadata": {},
   "outputs": [],
   "source": [
    "given_str=\"hello world\"\n",
    "given_char=\"hello\"\n",
    "if given_str.startswith(given_char):\n",
    "    print(True)\n",
    "else:\n",
    "    print(False)\n",
    "\n",
    "###using lambda\n",
    "given_char=lambda given_str, char:given_str.startswith(char)"
   ]
  },
  {
   "cell_type": "code",
   "execution_count": null,
   "metadata": {},
   "outputs": [],
   "source": [
    "**Write a Python program that multiplies each number in a list with a given number using lambda function and map.**\n",
    "li = [1,2,4]\n",
    "x =list(map(lambda x: x*2, li))\n",
    "print(x)"
   ]
  },
  {
   "cell_type": "code",
   "execution_count": null,
   "metadata": {},
   "outputs": [],
   "source": []
  },
  {
   "attachments": {},
   "cell_type": "markdown",
   "metadata": {},
   "source": [
    "**Write a program that takes a list of numbers as input and uses the filter() function to filter out the prime numbers from the list. The program should then print the list of prime numbers.**"
   ]
  },
  {
   "cell_type": "code",
   "execution_count": null,
   "metadata": {},
   "outputs": [],
   "source": [
    "def is_prime(num):\n",
    "    if num<2:\n",
    "        return False\n",
    "    for i in range(2, int(num**0.5)+1):\n",
    "        if num%i==0:\n",
    "            return False\n",
    "        return True\n",
    "numbers=[1,2,3,4,5,6,7,8]\n",
    "prime_numbers=list(filter(is_prime,numbers))\n",
    "print(\"prime numbers:\",prime_numbers)\n"
   ]
  },
  {
   "attachments": {},
   "cell_type": "markdown",
   "metadata": {},
   "source": [
    "**Write a program that takes a list of words as input and creates a dictionary where the keys are the words and the values are the lengths of the words. The program should then print the dictionary.**"
   ]
  },
  {
   "cell_type": "code",
   "execution_count": null,
   "metadata": {},
   "outputs": [],
   "source": [
    "li=[\"siri\",\"reddy\",\"hello\",\"training\"]\n",
    "new_dic={}\n",
    "\n",
    "for key_item in li:\n",
    "    value_item=len(key_item)\n",
    "    new_dic[key_item]=value_item\n",
    "print(new_dic)"
   ]
  },
  {
   "cell_type": "code",
   "execution_count": null,
   "metadata": {},
   "outputs": [],
   "source": []
  }
 ],
 "metadata": {
  "kernelspec": {
   "display_name": "Python 3 (ipykernel)",
   "language": "python",
   "name": "python3"
  },
  "language_info": {
   "codemirror_mode": {
    "name": "ipython",
    "version": 3
   },
   "file_extension": ".py",
   "mimetype": "text/x-python",
   "name": "python",
   "nbconvert_exporter": "python",
   "pygments_lexer": "ipython3",
   "version": "3.10.9"
  }
 },
 "nbformat": 4,
 "nbformat_minor": 2
}
